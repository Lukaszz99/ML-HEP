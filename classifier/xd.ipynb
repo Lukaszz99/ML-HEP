{
 "cells": [
  {
   "cell_type": "code",
   "execution_count": 1,
   "metadata": {},
   "outputs": [],
   "source": [
    "import numpy as np\n",
    "import matplotlib.pyplot as plt"
   ]
  },
  {
   "cell_type": "code",
   "execution_count": 2,
   "metadata": {},
   "outputs": [],
   "source": [
    "def hist_1d(signal, background, x_label, weights=None):\n",
    "    plt.clf()\n",
    "\n",
    "    bins = 400\n",
    "\n",
    "    fig, ax1 = plt.subplots(figsize=(10, 5))\n",
    "\n",
    "    # signal hist\n",
    "    ax1.hist(signal, bins=bins, weights=weights, histtype='step', color='blue')\n",
    "    ax1.set_xlabel(x_label)\n",
    "    ax1.set_ylabel('Signal', color='blue')\n",
    "\n",
    "    # dodaje drugą oś Y, ale ma tą samą oś X\n",
    "    ax2 = ax1.twinx() \n",
    "\n",
    "    # background hist\n",
    "    ax2.hist(background, bins=bins, histtype='step', color='red')\n",
    "    ax2.set_ylabel('Backgound', color='red')\n",
    "\n",
    "    title = f'{x_label}_signal_vs_background_12'\n",
    "    plt.title(title)\n",
    "\n",
    "    # opis histogramu\n",
    "    sgn_desc = f'Entries {format(signal.shape[0], \".2e\")}\\\n",
    "         \\nMean {np.mean(signal):.4f} \\nStd dev {np.std(signal):.4f}'\n",
    "    bckg_desc = f'Entries {format(background.shape[0], \".2e\")}\\\n",
    "         \\nMean {np.mean(background):.4f} \\nStd dev {np.std(background):.4f}'\n",
    "    hist_desc = f'Signal: {sgn_desc} \\n\\nBackground: {bckg_desc}'\n",
    "\n",
    "    # zeby nic nie ucieło\n",
    "    plt.tight_layout()\n",
    "\n",
    "    plt.show()\n"
   ]
  },
  {
   "cell_type": "code",
   "execution_count": 3,
   "metadata": {},
   "outputs": [],
   "source": [
    "def load_npy(inputfile):\n",
    "    file_npy = np.load(inputfile, allow_pickle=True)\n",
    "    \n",
    "    # oddzielenie labels\n",
    "    file_labels = list(file_npy[:1].astype(str)[0])\n",
    "\n",
    "    # oddzielenie danych i zmiana formatu z objet na float64\n",
    "    file_npy = file_npy[1:].astype('float64')\n",
    "\n",
    "    return file_npy, file_labels"
   ]
  },
  {
   "cell_type": "code",
   "execution_count": 62,
   "metadata": {},
   "outputs": [],
   "source": [
    "def prepare_weighted_set(dataset):\n",
    "    multiply_ratio = 1 / dataset[:, -2].min()\n",
    "    \n",
    "    multiply_weights = dataset[:, -2] * multiply_ratio\n",
    "    multiply_weights = [int(1) if i == multiply_ratio else int(i) for i in multiply_weights]\n",
    "    \n",
    "    weighted_array = dataset[0]\n",
    "\n",
    "    for (i, k) in zip(multiply_weights, range(len(multiply_weights))):\n",
    "        tmp_array = weighted_array[-1]\n",
    "        for j in range(multiply_weights[i]):\n",
    "#             weighted_array = np.vstack((weighted_array, dataset[k]))\n",
    "            tmp_array = np.vstack((tmp_array, dataset[k]))\n",
    "    \n",
    "        weighted_array = np.vstack((weighted_array, tmp_array))\n",
    "            \n",
    "    return weighted_array"
   ]
  },
  {
   "cell_type": "code",
   "execution_count": 64,
   "metadata": {},
   "outputs": [],
   "source": [
    "signal, signal_labels = load_npy('../data/D0_Signal_MonteCarlo_1_2_corrected.npy')\n",
    "background, background_labels = load_npy('../data/D0_background_1_2_corrected.npy')"
   ]
  },
  {
   "cell_type": "code",
   "execution_count": 65,
   "metadata": {},
   "outputs": [],
   "source": [
    "small_signal = signal[:8000]\n",
    "small_bck = background[:16000]"
   ]
  },
  {
   "cell_type": "code",
   "execution_count": 69,
   "metadata": {},
   "outputs": [
    {
     "data": {
      "text/plain": [
       "['w',\n",
       " 'ncoll',\n",
       " 'm',\n",
       " 'pt',\n",
       " 'decayLength',\n",
       " 'dca12',\n",
       " 'cosTheta',\n",
       " 'dcaV0ToPv',\n",
       " 'ptKaon',\n",
       " 'dcaKaon',\n",
       " 'ptPion',\n",
       " 'dcaPion',\n",
       " 'matchHftWeight']"
      ]
     },
     "execution_count": 69,
     "metadata": {},
     "output_type": "execute_result"
    }
   ],
   "source": [
    "signal_labels"
   ]
  },
  {
   "cell_type": "code",
   "execution_count": 66,
   "metadata": {},
   "outputs": [],
   "source": [
    "name = 'pt'\n",
    "sl = signal_labels.index(name)\n",
    "bl = background_labels.index(name)\n",
    "weights = small_signal[:, 0] * small_signal[:, -1]"
   ]
  },
  {
   "cell_type": "code",
   "execution_count": 67,
   "metadata": {},
   "outputs": [
    {
     "ename": "ValueError",
     "evalue": "all the input array dimensions for the concatenation axis must match exactly, but along dimension 1, the array at index 0 has size 1 and the array at index 1 has size 13",
     "output_type": "error",
     "traceback": [
      "\u001b[0;31m---------------------------------------------------------------------------\u001b[0m",
      "\u001b[0;31mValueError\u001b[0m                                Traceback (most recent call last)",
      "\u001b[0;32m<ipython-input-67-4bfa81a58677>\u001b[0m in \u001b[0;36m<module>\u001b[0;34m\u001b[0m\n\u001b[0;32m----> 1\u001b[0;31m \u001b[0msmall_signal_w\u001b[0m \u001b[0;34m=\u001b[0m \u001b[0mprepare_weighted_set\u001b[0m\u001b[0;34m(\u001b[0m\u001b[0msmall_signal\u001b[0m\u001b[0;34m)\u001b[0m\u001b[0;34m\u001b[0m\u001b[0;34m\u001b[0m\u001b[0m\n\u001b[0m",
      "\u001b[0;32m<ipython-input-62-eca6797f5630>\u001b[0m in \u001b[0;36mprepare_weighted_set\u001b[0;34m(dataset)\u001b[0m\n\u001b[1;32m     11\u001b[0m         \u001b[0;32mfor\u001b[0m \u001b[0mj\u001b[0m \u001b[0;32min\u001b[0m \u001b[0mrange\u001b[0m\u001b[0;34m(\u001b[0m\u001b[0mmultiply_weights\u001b[0m\u001b[0;34m[\u001b[0m\u001b[0mi\u001b[0m\u001b[0;34m]\u001b[0m\u001b[0;34m)\u001b[0m\u001b[0;34m:\u001b[0m\u001b[0;34m\u001b[0m\u001b[0;34m\u001b[0m\u001b[0m\n\u001b[1;32m     12\u001b[0m \u001b[0;31m#             weighted_array = np.vstack((weighted_array, dataset[k]))\u001b[0m\u001b[0;34m\u001b[0m\u001b[0;34m\u001b[0m\u001b[0;34m\u001b[0m\u001b[0m\n\u001b[0;32m---> 13\u001b[0;31m             \u001b[0mtmp_array\u001b[0m \u001b[0;34m=\u001b[0m \u001b[0mnp\u001b[0m\u001b[0;34m.\u001b[0m\u001b[0mvstack\u001b[0m\u001b[0;34m(\u001b[0m\u001b[0;34m(\u001b[0m\u001b[0mtmp_array\u001b[0m\u001b[0;34m,\u001b[0m \u001b[0mdataset\u001b[0m\u001b[0;34m[\u001b[0m\u001b[0mk\u001b[0m\u001b[0;34m]\u001b[0m\u001b[0;34m)\u001b[0m\u001b[0;34m)\u001b[0m\u001b[0;34m\u001b[0m\u001b[0;34m\u001b[0m\u001b[0m\n\u001b[0m\u001b[1;32m     14\u001b[0m \u001b[0;34m\u001b[0m\u001b[0m\n\u001b[1;32m     15\u001b[0m         \u001b[0mweighted_array\u001b[0m \u001b[0;34m=\u001b[0m \u001b[0mnp\u001b[0m\u001b[0;34m.\u001b[0m\u001b[0mvstack\u001b[0m\u001b[0;34m(\u001b[0m\u001b[0;34m(\u001b[0m\u001b[0mweighted_array\u001b[0m\u001b[0;34m,\u001b[0m \u001b[0mtmp_array\u001b[0m\u001b[0;34m)\u001b[0m\u001b[0;34m)\u001b[0m\u001b[0;34m\u001b[0m\u001b[0;34m\u001b[0m\u001b[0m\n",
      "\u001b[0;32m<__array_function__ internals>\u001b[0m in \u001b[0;36mvstack\u001b[0;34m(*args, **kwargs)\u001b[0m\n",
      "\u001b[0;32m~/.local/lib/python3.8/site-packages/numpy/core/shape_base.py\u001b[0m in \u001b[0;36mvstack\u001b[0;34m(tup)\u001b[0m\n\u001b[1;32m    281\u001b[0m     \u001b[0;32mif\u001b[0m \u001b[0;32mnot\u001b[0m \u001b[0misinstance\u001b[0m\u001b[0;34m(\u001b[0m\u001b[0marrs\u001b[0m\u001b[0;34m,\u001b[0m \u001b[0mlist\u001b[0m\u001b[0;34m)\u001b[0m\u001b[0;34m:\u001b[0m\u001b[0;34m\u001b[0m\u001b[0;34m\u001b[0m\u001b[0m\n\u001b[1;32m    282\u001b[0m         \u001b[0marrs\u001b[0m \u001b[0;34m=\u001b[0m \u001b[0;34m[\u001b[0m\u001b[0marrs\u001b[0m\u001b[0;34m]\u001b[0m\u001b[0;34m\u001b[0m\u001b[0;34m\u001b[0m\u001b[0m\n\u001b[0;32m--> 283\u001b[0;31m     \u001b[0;32mreturn\u001b[0m \u001b[0m_nx\u001b[0m\u001b[0;34m.\u001b[0m\u001b[0mconcatenate\u001b[0m\u001b[0;34m(\u001b[0m\u001b[0marrs\u001b[0m\u001b[0;34m,\u001b[0m \u001b[0;36m0\u001b[0m\u001b[0;34m)\u001b[0m\u001b[0;34m\u001b[0m\u001b[0;34m\u001b[0m\u001b[0m\n\u001b[0m\u001b[1;32m    284\u001b[0m \u001b[0;34m\u001b[0m\u001b[0m\n\u001b[1;32m    285\u001b[0m \u001b[0;34m\u001b[0m\u001b[0m\n",
      "\u001b[0;32m<__array_function__ internals>\u001b[0m in \u001b[0;36mconcatenate\u001b[0;34m(*args, **kwargs)\u001b[0m\n",
      "\u001b[0;31mValueError\u001b[0m: all the input array dimensions for the concatenation axis must match exactly, but along dimension 1, the array at index 0 has size 1 and the array at index 1 has size 13"
     ]
    }
   ],
   "source": [
    "small_signal_w = prepare_weighted_set(small_signal)"
   ]
  },
  {
   "cell_type": "code",
   "execution_count": null,
   "metadata": {},
   "outputs": [],
   "source": [
    "small_bck_w = p"
   ]
  },
  {
   "cell_type": "code",
   "execution_count": 60,
   "metadata": {},
   "outputs": [
    {
     "name": "stdout",
     "output_type": "stream",
     "text": [
      "bez wag\n"
     ]
    },
    {
     "data": {
      "text/plain": [
       "<Figure size 432x288 with 0 Axes>"
      ]
     },
     "metadata": {},
     "output_type": "display_data"
    },
    {
     "data": {
      "image/png": "[encoded data removed]",
      "text/plain": [
       "<Figure size 720x360 with 2 Axes>"
      ]
     },
     "metadata": {
      "needs_background": "light"
     },
     "output_type": "display_data"
    },
    {
     "name": "stdout",
     "output_type": "stream",
     "text": [
      "z wagami\n"
     ]
    },
    {
     "data": {
      "text/plain": [
       "<Figure size 432x288 with 0 Axes>"
      ]
     },
     "metadata": {},
     "output_type": "display_data"
    },
    {
     "data": {
      "image/png": "[encoded data removed]",
      "text/plain": [
       "<Figure size 720x360 with 2 Axes>"
      ]
     },
     "metadata": {
      "needs_background": "light"
     },
     "output_type": "display_data"
    }
   ],
   "source": [
    "print('bez wag')\n",
    "hist_1d(small_signal[:, sl], small_bck[:, bl], x_label='pt')\n",
    "\n",
    "\n",
    "print('z wagami')\n",
    "hist_1d(small_signal[:, sl], small_bck[:, bl], x_label='pt', weights=weights)"
   ]
  },
  {
   "cell_type": "code",
   "execution_count": null,
   "metadata": {},
   "outputs": [],
   "source": []
  }
 ],
 "metadata": {
  "kernelspec": {
   "display_name": "Python 3",
   "language": "python",
   "name": "python3"
  },
  "language_info": {
   "codemirror_mode": {
    "name": "ipython",
    "version": 3
   },
   "file_extension": ".py",
   "mimetype": "text/x-python",
   "name": "python",
   "nbconvert_exporter": "python",
   "pygments_lexer": "ipython3",
   "version": "3.8.5"
  }
 },
 "nbformat": 4,
 "nbformat_minor": 4
}
