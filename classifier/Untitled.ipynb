{
 "cells": [
  {
   "cell_type": "code",
   "execution_count": 1,
   "metadata": {},
   "outputs": [],
   "source": [
    "import numpy as np\n",
    "import matplotlib.pyplot as plt"
   ]
  },
  {
   "cell_type": "code",
   "execution_count": 2,
   "metadata": {},
   "outputs": [],
   "source": [
    "def load_npy(inputfile):\n",
    "    file_npy = np.load(inputfile, allow_pickle=True)\n",
    "    \n",
    "    # oddzielenie labels\n",
    "    file_labels = list(file_npy[:1].astype(str)[0])\n",
    "\n",
    "    # oddzielenie danych i zmiana formatu z objet na float64\n",
    "    file_npy = file_npy[1:].astype('float64')\n",
    "\n",
    "    return file_npy, file_labels"
   ]
  },
  {
   "cell_type": "code",
   "execution_count": 39,
   "metadata": {},
   "outputs": [],
   "source": [
    "def prepare_weighted_set(dataset):\n",
    "    multiply_ratio = 1 / dataset[:, -2].min()\n",
    "    \n",
    "    multiply_weights = dataset[:, -2] * multiply_ratio\n",
    "    multiply_weights = [int(1) if i == multiply_ratio else int(i) for i in multiply_weights]\n",
    "    \n",
    "    weighted_array = dataset[0]\n",
    "\n",
    "    for (i, k) in zip(multiply_weights, range(len(multiply_weights))):\n",
    "        for j in range(multiply_weights[i]):\n",
    "            weighted_array = np.vstack((weighted_array, dataset[k]))\n",
    "            \n",
    "    return weighted_array"
   ]
  },
  {
   "cell_type": "code",
   "execution_count": 40,
   "metadata": {},
   "outputs": [],
   "source": [
    "data, labels = load_npy('../data/D0_set.npy')"
   ]
  },
  {
   "cell_type": "code",
   "execution_count": 41,
   "metadata": {},
   "outputs": [
    {
     "data": {
      "text/plain": [
       "(60000, 11)"
      ]
     },
     "execution_count": 41,
     "metadata": {},
     "output_type": "execute_result"
    }
   ],
   "source": [
    "data.shape"
   ]
  },
  {
   "cell_type": "code",
   "execution_count": 42,
   "metadata": {},
   "outputs": [],
   "source": [
    "data_w = prepare_weighted_set(data)"
   ]
  },
  {
   "cell_type": "code",
   "execution_count": 43,
   "metadata": {},
   "outputs": [
    {
     "data": {
      "text/plain": [
       "(116410, 11)"
      ]
     },
     "execution_count": 43,
     "metadata": {},
     "output_type": "execute_result"
    }
   ],
   "source": [
    "np.save()"
   ]
  },
  {
   "cell_type": "code",
   "execution_count": 58,
   "metadata": {},
   "outputs": [],
   "source": [
    "def prepare_set(filename, sb_big_ratio=False):\n",
    "    npy, labels = load_npy(filename)\n",
    "    \n",
    "#     print(npy.shape)\n",
    "#     print(npy[:40000, -1].mean())\n",
    "\n",
    "    if sb_big_ratio:\n",
    "        signal = npy[:200]\n",
    "        background = npy[35000:105000]\n",
    "        \n",
    "        npy = np.vstack((signal, background))\n",
    "        \n",
    "    # przyogowanie danych do trenowania i testu\n",
    "    np.random.shuffle(npy)\n",
    "\n",
    "    weights = npy[:, -2]\n",
    "\n",
    "    set_size = npy.shape[0]\n",
    "\n",
    "    rng = int(0.9 * set_size)\n",
    "\n",
    "    train_weights = weights[:rng]\n",
    "    test_weights = weights[rng:set_size]\n",
    "\n",
    "    npy = np.delete(npy, -2, axis=1)\n",
    "\n",
    "#     labels = labels[:9] + [labels[-1]]\n",
    "\n",
    "    targets = npy[:, -1]\n",
    "\n",
    "    X_train = npy[:rng, :-1]\n",
    "    y_train = targets[:rng]\n",
    "\n",
    "    X_test = npy[rng:set_size, :-1]\n",
    "    y_test = targets[rng:set_size]\n",
    "\n",
    "    return X_train, y_train, X_test, y_test"
   ]
  },
  {
   "cell_type": "code",
   "execution_count": 59,
   "metadata": {},
   "outputs": [],
   "source": [
    "X_train, y_train, X_test, y_test, labels = prepare_set('../data/D0_set_weighted.npy', True)"
   ]
  }
 ],
 "metadata": {
  "kernelspec": {
   "display_name": "Python 3",
   "language": "python",
   "name": "python3"
  },
  "language_info": {
   "codemirror_mode": {
    "name": "ipython",
    "version": 3
   },
   "file_extension": ".py",
   "mimetype": "text/x-python",
   "name": "python",
   "nbconvert_exporter": "python",
   "pygments_lexer": "ipython3",
   "version": "3.8.5"
  }
 },
 "nbformat": 4,
 "nbformat_minor": 4
}
