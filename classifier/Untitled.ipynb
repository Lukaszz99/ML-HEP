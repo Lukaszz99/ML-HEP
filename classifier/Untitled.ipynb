{
 "cells": [
  {
   "cell_type": "code",
   "execution_count": 1,
   "metadata": {},
   "outputs": [],
   "source": [
    "import numpy as np\n",
    "import matplotlib.pyplot as plt"
   ]
  },
  {
   "cell_type": "code",
   "execution_count": 2,
   "metadata": {},
   "outputs": [],
   "source": [
    "def load_npy(inputfile):\n",
    "    file_npy = np.load(inputfile, allow_pickle=True)\n",
    "    \n",
    "    # oddzielenie labels\n",
    "    file_labels = list(file_npy[:1].astype(str)[0])\n",
    "\n",
    "    # oddzielenie danych i zmiana formatu z objet na float64\n",
    "    file_npy = file_npy[1:].astype('float64')\n",
    "\n",
    "    return file_npy, file_labels"
   ]
  },
  {
   "cell_type": "code",
   "execution_count": 39,
   "metadata": {},
   "outputs": [],
   "source": [
    "def prepare_weighted_set(dataset):\n",
    "    multiply_ratio = 1 / dataset[:, -2].min()\n",
    "    \n",
    "    multiply_weights = dataset[:, -2] * multiply_ratio\n",
    "    multiply_weights = [int(1) if i == multiply_ratio else int(i) for i in multiply_weights]\n",
    "    \n",
    "    weighted_array = dataset[0]\n",
    "\n",
    "    for (i, k) in zip(multiply_weights, range(len(multiply_weights))):\n",
    "        for j in range(multiply_weights[i]):\n",
    "            weighted_array = np.vstack((weighted_array, dataset[k]))\n",
    "            \n",
    "    return weighted_array"
   ]
  },
  {
   "cell_type": "code",
   "execution_count": 40,
   "metadata": {},
   "outputs": [],
   "source": [
    "data, labels = load_npy('../data/D0_set.npy')"
   ]
  },
  {
   "cell_type": "code",
   "execution_count": 41,
   "metadata": {},
   "outputs": [
    {
     "data": {
      "text/plain": [
       "(60000, 11)"
      ]
     },
     "execution_count": 41,
     "metadata": {},
     "output_type": "execute_result"
    }
   ],
   "source": [
    "data.shape"
   ]
  },
  {
   "cell_type": "code",
   "execution_count": 42,
   "metadata": {},
   "outputs": [],
   "source": [
    "data_w = prepare_weighted_set(data)"
   ]
  },
  {
   "cell_type": "code",
   "execution_count": 43,
   "metadata": {},
   "outputs": [
    {
     "data": {
      "text/plain": [
       "(116410, 11)"
      ]
     },
     "execution_count": 43,
     "metadata": {},
     "output_type": "execute_result"
    }
   ],
   "source": [
    "np.save()"
   ]
  }
 ],
 "metadata": {
  "kernelspec": {
   "display_name": "Python 3",
   "language": "python",
   "name": "python3"
  },
  "language_info": {
   "codemirror_mode": {
    "name": "ipython",
    "version": 3
   },
   "file_extension": ".py",
   "mimetype": "text/x-python",
   "name": "python",
   "nbconvert_exporter": "python",
   "pygments_lexer": "ipython3",
   "version": "3.8.5"
  }
 },
 "nbformat": 4,
 "nbformat_minor": 4
}
