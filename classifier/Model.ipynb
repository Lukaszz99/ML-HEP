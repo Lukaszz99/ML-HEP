{
 "cells": [
  {
   "cell_type": "code",
   "execution_count": 1,
   "metadata": {},
   "outputs": [],
   "source": [
    "import numpy as np\n",
    "from utilities import prepare_set\n",
    "import matplotlib.pyplot as plt\n",
    "\n",
    "from time import time"
   ]
  },
  {
   "cell_type": "code",
   "execution_count": 5,
   "metadata": {},
   "outputs": [],
   "source": [
    "X_train, y_train, X_test, y_test = prepare_set('../data/D0_set_weighted.npy', True)"
   ]
  },
  {
   "cell_type": "code",
   "execution_count": 7,
   "metadata": {},
   "outputs": [
    {
     "data": {
      "text/plain": [
       "(63180, 9)"
      ]
     },
     "execution_count": 7,
     "metadata": {},
     "output_type": "execute_result"
    }
   ],
   "source": [
    "X_train.shape"
   ]
  },
  {
   "cell_type": "code",
   "execution_count": 3,
   "metadata": {},
   "outputs": [],
   "source": [
    "# sb_big_ratio=True zwraca roporcej sygnału do tła na opziomie 1:350, zamiast 1:2\n",
    "X_train_350, y_train_350, X_test_350, y_test_350 = prepare_set('../data/D0_set_weighted.npy', sb_big_ratio=True)"
   ]
  },
  {
   "cell_type": "markdown",
   "metadata": {},
   "source": [
    ">S - ratio of # of classified signal (1) to # of counted signal in X_test  \n",
    "B - ratio of # of classified background (0) to # of counted background in y_test"
   ]
  },
  {
   "cell_type": "markdown",
   "metadata": {},
   "source": [
    "## ML model"
   ]
  },
  {
   "cell_type": "code",
   "execution_count": 14,
   "metadata": {},
   "outputs": [],
   "source": [
    "def eff_signal(clf, X, y):\n",
    "    '''How much of signal is classified as signal.'''\n",
    "    test_count = 0\n",
    "    fit_count = 0\n",
    "    prediction = clf.predict(X[:testing_samples])\n",
    "    for i in range(testing_samples):\n",
    "        if y[i] == 1:\n",
    "            test_count += 1\n",
    "            if prediction[i] == 1:\n",
    "                fit_count += 1\n",
    "                \n",
    "    print('signal count:', test_count)\n",
    "    print('signal predict:', fit_count)\n",
    "    return fit_count\n",
    "\n",
    "def eff_background(clf, X, y):\n",
    "    '''How much of background is classified as background.'''\n",
    "    test_count = 0\n",
    "    fit_count = 0\n",
    "    prediction = clf.predict(X[:testing_samples])\n",
    "    for i in range(testing_samples):\n",
    "        if y[i] == 0:\n",
    "            test_count += 1\n",
    "            if prediction[i] == 0:\n",
    "                fit_count += 1\n",
    "    \n",
    "    print(fit_count)\n",
    "    print(test_count)\n",
    "    return (1 - fit_count / test_count) * test_count\n",
    "    \n",
    "def high_score(clf, X, y):\n",
    "    '''Function for scoring argument in model optimization'''\n",
    "    S = eff_signal(clf, X, y)\n",
    "    B = eff_background(clf, X, y)\n",
    "    print(S)\n",
    "    print(B)\n",
    "    return S/np.sqrt(S+B)"
   ]
  },
  {
   "cell_type": "code",
   "execution_count": 5,
   "metadata": {},
   "outputs": [],
   "source": [
    "learning_samples = 500\n",
    "testing_samples = 5000\n",
    "\n",
    "X_train = X_train_350[:learning_samples, 1:]\n",
    "y_train = y_train_350[:learning_samples]\n",
    "\n",
    "X_test = X_test_350[:testing_samples, 1:]\n",
    "y_test = y_test_350[:testing_samples]"
   ]
  },
  {
   "cell_type": "code",
   "execution_count": 6,
   "metadata": {},
   "outputs": [],
   "source": [
    "from sklearn.model_selection import GridSearchCV\n",
    "from sklearn.metrics import make_scorer\n",
    "from sklearn.preprocessing import StandardScaler\n",
    "from sklearn.decomposition import PCA\n",
    "from sklearn.pipeline import make_pipeline "
   ]
  },
  {
   "cell_type": "markdown",
   "metadata": {},
   "source": [
    "### Decision Tree"
   ]
  },
  {
   "cell_type": "code",
   "execution_count": 10,
   "metadata": {},
   "outputs": [],
   "source": [
    "from sklearn.tree import DecisionTreeClassifier\n",
    "\n",
    "max_depth = [None, 10, 50, 100]\n",
    "class_weight = [None, 'balanced']\n",
    "\n",
    "decision_tree_pipe = DecisionTreeClassifier()\n",
    "\n",
    "tree_param_grid = [{'max_depth':max_depth,\n",
    "                  'class_weight':class_weight}]\n",
    "\n",
    "tree_gs = GridSearchCV(estimator=decision_tree_pipe, \n",
    "                       param_grid=tree_param_grid, scoring='accuracy', \n",
    "                       cv=10, n_jobs=-1)\n"
   ]
  },
  {
   "cell_type": "code",
   "execution_count": 77,
   "metadata": {},
   "outputs": [
    {
     "name": "stdout",
     "output_type": "stream",
     "text": [
      "Decision tree training time 1.1279122829437256.\n",
      "Wydajnosc 2.749999999999998\n",
      "Decision tree best params {'class_weight': None, 'max_depth': 10}\n"
     ]
    }
   ],
   "source": [
    "start_time = time()\n",
    "\n",
    "tree_gs = tree_gs.fit(X_train, y_train)\n",
    "\n",
    "print(f'Decision tree training time {time() - start_time}.')\n",
    "print(f'Wydajnosc {high_score(tree_gs, X_test, y_test)}')\n",
    "print(f'Decision tree best params {tree_gs.best_params_}')"
   ]
  },
  {
   "cell_type": "markdown",
   "metadata": {},
   "source": [
    "### PCA"
   ]
  },
  {
   "cell_type": "code",
   "execution_count": 7,
   "metadata": {},
   "outputs": [
    {
     "data": {
      "text/plain": [
       "PCA()"
      ]
     },
     "execution_count": 7,
     "metadata": {},
     "output_type": "execute_result"
    }
   ],
   "source": [
    "pca = PCA()\n",
    "\n",
    "pca.fit(X_train)"
   ]
  },
  {
   "cell_type": "code",
   "execution_count": 8,
   "metadata": {},
   "outputs": [
    {
     "data": {
      "image/png": "[encoded data removed]",
      "text/plain": [
       "<Figure size 864x576 with 1 Axes>"
      ]
     },
     "metadata": {
      "needs_background": "light"
     },
     "output_type": "display_data"
    },
    {
     "name": "stdout",
     "output_type": "stream",
     "text": [
      "Components ratio: [4.57294449e-01 3.04760964e-01 1.70388690e-01 6.51872143e-02\n",
      " 2.11180636e-03 1.74939654e-04 5.74312244e-05 2.45056579e-05]\n",
      "Components ratio cumsum: [0.45729445 0.76205541 0.9324441  0.99763132 0.99974312 0.99991806\n",
      " 0.99997549 1.        ]\n",
      "3 komponenty objaśniają 94% zbioru!\n"
     ]
    }
   ],
   "source": [
    "plt.figure(figsize=(12,8))\n",
    "\n",
    "plt.bar(range(1,9), pca.explained_variance_ratio_)\n",
    "plt.step(range(1,9), np.cumsum(pca.explained_variance_ratio_), where='mid', color='red')\n",
    "\n",
    "plt.title('PCA')\n",
    "\n",
    "plt.xlabel('Component', fontsize=14)\n",
    "plt.ylabel('Explained ratio', fontsize=14)\n",
    "\n",
    "plt.grid(alpha=0.6)\n",
    "plt.show()\n",
    "\n",
    "print(f'Components ratio: {pca.explained_variance_ratio_}')\n",
    "print(f'Components ratio cumsum: {np.cumsum(pca.explained_variance_ratio_)}')\n",
    "print('3 komponenty objaśniają 94% zbioru!')"
   ]
  },
  {
   "cell_type": "markdown",
   "metadata": {},
   "source": [
    "### SVC"
   ]
  },
  {
   "cell_type": "code",
   "execution_count": 16,
   "metadata": {},
   "outputs": [],
   "source": [
    "from sklearn.svm import SVC\n",
    "\n",
    "value_param = [0.01, 0.1, 1.0, 10, 100, 1000]\n",
    "\n",
    "svc_pipe = make_pipeline(StandardScaler(), PCA(n_components=3), SVC())\n",
    "\n",
    "svc_param_grid = [{'svc__C': value_param,\n",
    "                  'svc__gamma': value_param,\n",
    "                  'svc__class_weight': class_weight}]\n",
    "\n",
    "svc_gs = GridSearchCV(estimator=svc_pipe, \n",
    "                       param_grid=svc_param_grid, scoring='balanced_accuracy', \n",
    "                       cv=10, n_jobs=-1)"
   ]
  },
  {
   "cell_type": "code",
   "execution_count": null,
   "metadata": {},
   "outputs": [],
   "source": [
    "X = .....\n",
    "X = PCA(n_components=3).fit_transform(X)"
   ]
  },
  {
   "cell_type": "code",
   "execution_count": 17,
   "metadata": {},
   "outputs": [
    {
     "name": "stdout",
     "output_type": "stream",
     "text": [
      "Support Vector Machine training time 2.4961609840393066.\n",
      "signal count: 115\n",
      "signal predict: 64\n",
      "4368\n",
      "4885\n",
      "64\n",
      "517.0000000000001\n",
      "Wydajnosc 2.6551674036640716\n",
      "Decision tree best params {'svc__C': 1000, 'svc__class_weight': 'balanced', 'svc__gamma': 0.01}\n"
     ]
    }
   ],
   "source": [
    "start_time = time()\n",
    "\n",
    "svc_gs = svc_gs.fit(X_train, y_train)\n",
    "\n",
    "print(f'Support Vector Machine training time {time() - start_time}.')\n",
    "print(f'Wydajnosc {high_score(svc_gs, X_test, y_test)}')\n",
    "print(f'Decision tree best params {svc_gs.best_params_}')"
   ]
  },
  {
   "cell_type": "code",
   "execution_count": 18,
   "metadata": {},
   "outputs": [
    {
     "name": "stdout",
     "output_type": "stream",
     "text": [
      "signal count: 115\n",
      "signal predict: 64\n",
      "4368\n",
      "4885\n",
      "64\n",
      "517.0000000000001\n",
      "Wydajnosc 2.6551674036640716\n"
     ]
    }
   ],
   "source": [
    "print(f'Wydajnosc {high_score(svc_gs, X_test, y_test)}')"
   ]
  },
  {
   "cell_type": "markdown",
   "metadata": {},
   "source": [
    "### Logistic Regression"
   ]
  },
  {
   "cell_type": "code",
   "execution_count": 95,
   "metadata": {},
   "outputs": [],
   "source": [
    "from sklearn.linear_model import LogisticRegression\n",
    "\n",
    "lr_pipe = make_pipeline(StandardScaler(), PCA(n_components=3), LogisticRegression(max_iter=200, n_jobs=-1))\n",
    "\n",
    "lr_param_grid = [{'logisticregression__C': value_param,\n",
    "                 'logisticregression__class_weight': class_weight,\n",
    "                 'logisticregression__solver': ['saga', 'lbfgs']}]\n",
    "\n",
    "lr_gs = GridSearchCV(estimator=lr_pipe, param_grid=lr_param_grid, scoring='accuracy',\n",
    "                    cv=10, n_jobs=-1)"
   ]
  },
  {
   "cell_type": "code",
   "execution_count": 96,
   "metadata": {},
   "outputs": [
    {
     "name": "stdout",
     "output_type": "stream",
     "text": [
      "Logisti Regression training time 9.075731992721558.\n",
      "110\n",
      "0\n",
      "4890\n",
      "4890\n",
      "0\n",
      "0.0\n",
      "Wydajnosc nan\n",
      "Logistic Regression best params {'logisticregression__C': 0.01, 'logisticregression__class_weight': None, 'logisticregression__solver': 'saga'}\n"
     ]
    },
    {
     "name": "stderr",
     "output_type": "stream",
     "text": [
      "<ipython-input-91-b50b634fd6ad>:37: RuntimeWarning: invalid value encountered in double_scalars\n",
      "  return S/np.sqrt(S+B)\n"
     ]
    }
   ],
   "source": [
    "start_time = time()\n",
    "\n",
    "lr_gs = lr_gs.fit(X_train, y_train)\n",
    "\n",
    "print(f'Logisti Regression training time {time() - start_time}.')\n",
    "print(f'Wydajnosc {high_score(lr_gs, X_test, y_test)}')\n",
    "print(f'Logistic Regression best params {lr_gs.best_params_}')"
   ]
  },
  {
   "cell_type": "code",
   "execution_count": null,
   "metadata": {},
   "outputs": [],
   "source": []
  }
 ],
 "metadata": {
  "kernelspec": {
   "display_name": "Python 3",
   "language": "python",
   "name": "python3"
  },
  "language_info": {
   "codemirror_mode": {
    "name": "ipython",
    "version": 3
   },
   "file_extension": ".py",
   "mimetype": "text/x-python",
   "name": "python",
   "nbconvert_exporter": "python",
   "pygments_lexer": "ipython3",
   "version": "3.8.5"
  }
 },
 "nbformat": 4,
 "nbformat_minor": 4
}
