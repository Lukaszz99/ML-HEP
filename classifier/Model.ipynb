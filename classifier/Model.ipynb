{
 "cells": [
  {
   "cell_type": "code",
   "execution_count": null,
   "metadata": {},
   "outputs": [],
   "source": [
    "import numpy as np\n",
    "from utilities import prepare_set\n",
    "import matplotlib.pyplot as plt\n",
    "\n",
    "from time import time"
   ]
  },
  {
   "cell_type": "code",
   "execution_count": null,
   "metadata": {},
   "outputs": [],
   "source": [
    "X_train, y_train, X_test, y_test, train_weights, test_weights = prepare_set('../data/D0_set_weighted.npy')"
   ]
  },
  {
   "cell_type": "code",
   "execution_count": null,
   "metadata": {},
   "outputs": [],
   "source": [
    "X_train.shape"
   ]
  },
  {
   "cell_type": "code",
   "execution_count": null,
   "metadata": {},
   "outputs": [],
   "source": [
    "X_test.shape"
   ]
  },
  {
   "cell_type": "markdown",
   "metadata": {},
   "source": [
    ">S - ratio of # of classified signal (1) to # of counted signal in X_test  \n",
    "B - ratio of # of classified background (0) to # of counted background in y_test"
   ]
  },
  {
   "cell_type": "markdown",
   "metadata": {},
   "source": [
    "## ML model"
   ]
  },
  {
   "cell_type": "code",
   "execution_count": 1,
   "metadata": {},
   "outputs": [],
   "source": [
    "from sklearn.model_selection import GridSearchCV\n",
    "from sklearn.metrics import make_scorer\n",
    "from sklearn.preprocessing import StandardScaler\n",
    "from sklearn.decomposition import PCA\n",
    "from sklearn.pipeline import make_pipeline"
   ]
  },
  {
   "cell_type": "markdown",
   "metadata": {},
   "source": [
    "### Decision Tree"
   ]
  },
  {
   "cell_type": "code",
   "execution_count": null,
   "metadata": {},
   "outputs": [],
   "source": [
    "from sklearn.tree import DecisionTreeClassifier\n",
    "\n",
    "max_depth = [None, 10, 50, 100]\n",
    "class_weight = [None, 'balanced']\n",
    "\n",
    "decision_tree_pipe = DecisionTreeClassifier()\n",
    "\n",
    "tree_param_grid = [{'max_depth':max_depth,\n",
    "                  'class_weight':class_weight}]\n",
    "\n",
    "tree_gs = GridSearchCV(estimator=decision_tree_pipe, \n",
    "                       param_grid=tree_param_grid, scoring='accuracy', \n",
    "                       cv=10, n_jobs=-1)\n"
   ]
  },
  {
   "cell_type": "code",
   "execution_count": null,
   "metadata": {},
   "outputs": [],
   "source": [
    "start_time = time()\n",
    "\n",
    "tree_gs = tree_gs.fit(X_train[:100000, 1:], y_train[:100000])\n",
    "\n",
    "print(f'Decision tree training time {time() - start_time}.')\n",
    "print(f'Wydajnosc {high_score(tree_gs)}')\n",
    "print(f'Decision tree best params {tree_gs.best_params_}')"
   ]
  },
  {
   "cell_type": "markdown",
   "metadata": {},
   "source": [
    "### SVC"
   ]
  },
  {
   "cell_type": "code",
   "execution_count": null,
   "metadata": {},
   "outputs": [],
   "source": [
    "from sklearn.svm import SVC\n",
    "\n",
    "value_param = [0.01, 0.1, 1.0, 10, 100, 1000]\n",
    "\n",
    "svc_pipe = make_pipeline(StandardScaler(), PCA(n_components=3), SVC())\n",
    "\n",
    "svc_param_grid = [{'C': value_param,\n",
    "                  'gamma': value_param,\n",
    "                  'class_weight': class_weight}]\n",
    "\n",
    "svc_gs = GridSearchCV(estimator=svc_pipe, \n",
    "                       param_grid=svc_param_grid, scoring='accuracy', \n",
    "                       cv=10, n_jobs=-1)"
   ]
  },
  {
   "cell_type": "code",
   "execution_count": null,
   "metadata": {},
   "outputs": [],
   "source": [
    "start_time = time()\n",
    "\n",
    "svc_gs = svc_gs.fit(X_train[:100000, 1:], y_train[:100000])\n",
    "\n",
    "print(f'Support Vector Machine training time {time() - start_time}.')\n",
    "print(f'Wydajnosc {high_score(svc_gs)}')\n",
    "print(f'Decision tree best params {svc_gs.best_params_}')"
   ]
  },
  {
   "cell_type": "markdown",
   "metadata": {},
   "source": [
    "### Logistic Regression"
   ]
  },
  {
   "cell_type": "code",
   "execution_count": null,
   "metadata": {},
   "outputs": [],
   "source": []
  },
  {
   "cell_type": "code",
   "execution_count": null,
   "metadata": {},
   "outputs": [],
   "source": []
  },
  {
   "cell_type": "code",
   "execution_count": null,
   "metadata": {},
   "outputs": [],
   "source": []
  },
  {
   "cell_type": "code",
   "execution_count": null,
   "metadata": {},
   "outputs": [],
   "source": [
    "from sklearn.linear_model import LogisticRegression\n",
    "from sklearn.svm import SVC\n",
    "from sklearn.tree import DecisionTreeClassifier\n",
    "from sklearn import tree\n",
    "from sklearn.model_selection import GridSearchCV\n",
    "from sklearn.metrics import make_scorer\n",
    "\n",
    "from sklearn.preprocessing import StandardScaler\n",
    "from sklearn.decomposition import PCA\n",
    "from sklearn.pipeline import make_pipeline\n",
    "\n",
    "# no_train = X_train.shape[0] # number of train samples\n",
    "# no_test = X_test.shape[0] # number of test samples\n",
    "\n",
    "no_train = 200 # number of train samples\n",
    "no_test = 1000 # number of test samples\n",
    "\n",
    "X=X_train[:no_train, 1:]\n",
    "y=y_train[:no_train]\n",
    "\n",
    "def eff_signal(clf):\n",
    "    '''How much of signal is classified as signal.'''\n",
    "    test_count = 0\n",
    "    fit_count = 0\n",
    "    prediction = clf.predict(X_test[:no_test, 1:])\n",
    "    for i in range(no_test):\n",
    "        if y_test[i] == 1:\n",
    "            test_count += 1\n",
    "            if (y_test[i] == prediction[i]):\n",
    "                fit_count += 1\n",
    "    return fit_count / test_count * no_test\n",
    "\n",
    "def eff_background(clf):\n",
    "    '''How much of background is classified as background.'''\n",
    "    test_count = 0\n",
    "    fit_count = 0\n",
    "    prediction = clf.predict(X_test[:no_test, 1:])\n",
    "    for i in range(no_test):\n",
    "        if y_test[i] == 0:\n",
    "            test_count += 1\n",
    "            if (y_test[i] == prediction[i]):\n",
    "                fit_count += 1\n",
    "    return (1 - fit_count / test_count) * no_test * 500\n",
    "    \n",
    "def high_score(clf):\n",
    "    '''Function for scoring argument in model optimization'''\n",
    "    S = eff_signal(clf)\n",
    "    B = eff_background(clf)\n",
    "    return S/np.sqrt(S+B)\n",
    "\n",
    "def custom_scorer(clf, X, y):\n",
    "    signal_count = 0\n",
    "    background_count = 0\n",
    "    \n",
    "    signal_corr_pred_count = 0\n",
    "    background_corr_pred_count = 0\n",
    "    \n",
    "    pred = clf.predict(X_test[:no_test, 1:])\n",
    "    \n",
    "    for i in range(len(y)):\n",
    "        if y[i] == 1:\n",
    "            signal_count +=1\n",
    "#             if y[i] == pred[i]\n",
    "            \n",
    "    return signal_count\n",
    "\n",
    "scorer = make_scorer(custom_scorer, greater_is_better=True)"
   ]
  },
  {
   "cell_type": "code",
   "execution_count": null,
   "metadata": {},
   "outputs": [],
   "source": [
    "X.shape"
   ]
  },
  {
   "cell_type": "markdown",
   "metadata": {},
   "source": [
    "---\n",
    "### Logistic Regression"
   ]
  },
  {
   "cell_type": "code",
   "execution_count": null,
   "metadata": {},
   "outputs": [],
   "source": [
    "log_reg = LogisticRegression()\n",
    "log_reg = log_reg.fit(X, y)"
   ]
  },
  {
   "cell_type": "code",
   "execution_count": null,
   "metadata": {},
   "outputs": [],
   "source": [
    "print('S= {:.3f}, B= {:.3f}, S/(S+B)^1/2= {:.3f}'.format(eff_signal(log_reg), \n",
    "                                                         eff_background(log_reg), high_score(log_reg)))"
   ]
  },
  {
   "cell_type": "code",
   "execution_count": null,
   "metadata": {},
   "outputs": [],
   "source": [
    "log_reg.score(X_test[:no_test, 1:], y_test[:no_test])"
   ]
  },
  {
   "cell_type": "markdown",
   "metadata": {},
   "source": [
    "---\n",
    "### SVC"
   ]
  },
  {
   "cell_type": "code",
   "execution_count": null,
   "metadata": {},
   "outputs": [],
   "source": [
    "svc = SVC()\n",
    "svc.fit(X, y)"
   ]
  },
  {
   "cell_type": "code",
   "execution_count": null,
   "metadata": {},
   "outputs": [],
   "source": [
    "print('S= {:.3f}, B= {:.3f}, S*(S+B)^1/2= {:.3f}'.format(eff_signal(svc), \n",
    "                                                         eff_background(svc), high_score(svc)))"
   ]
  },
  {
   "cell_type": "code",
   "execution_count": null,
   "metadata": {},
   "outputs": [],
   "source": [
    "svc.score(X_test[:no_test, 1:], y_test[:no_test])"
   ]
  },
  {
   "cell_type": "markdown",
   "metadata": {},
   "source": [
    "---\n",
    "### Decision Tree"
   ]
  },
  {
   "cell_type": "code",
   "execution_count": null,
   "metadata": {},
   "outputs": [],
   "source": [
    "dec_tree = DecisionTreeClassifier()\n",
    "dec_tree.fit(X,y)"
   ]
  },
  {
   "cell_type": "code",
   "execution_count": null,
   "metadata": {},
   "outputs": [],
   "source": [
    "print('S= {:.3f}, B= {:.3f}, S*(S+B)^1/2= {:.3f}'.format(eff_signal(dec_tree), \n",
    "                                                         eff_background(dec_tree), high_score(dec_tree)))"
   ]
  },
  {
   "cell_type": "code",
   "execution_count": null,
   "metadata": {},
   "outputs": [],
   "source": [
    "dec_tree.score(X_test[:no_test, 1:], y_test[:no_test])"
   ]
  },
  {
   "cell_type": "markdown",
   "metadata": {},
   "source": [
    "NEW WAY"
   ]
  },
  {
   "cell_type": "code",
   "execution_count": null,
   "metadata": {},
   "outputs": [],
   "source": [
    "pca = PCA(n_components=8)\n",
    "\n",
    "X_pca = pca.fit_transform(X)\n",
    "\n",
    "pca.explained_variance_ratio_\n",
    "plt.bar(range(1,9), pca.explained_variance_ratio_)\n",
    "plt.step(range(1,9), np.cumsum(pca.explained_variance_ratio_), where='mid')\n",
    "plt.show()"
   ]
  },
  {
   "cell_type": "code",
   "execution_count": null,
   "metadata": {},
   "outputs": [],
   "source": [
    "tree_pipe = make_pipeline(DecisionTreeClassifier())\n",
    "\n",
    "depth = [8, 15, 30]\n",
    "param_grid = [{'decisiontreeclassifier__max_depth':depth}]\n",
    "\n",
    "gs = GridSearchCV(estimator=tree_pipe, param_grid=param_grid, scoring='accuracy', cv=10)\n",
    "gs = gs.fit(X, y)"
   ]
  },
  {
   "cell_type": "code",
   "execution_count": null,
   "metadata": {},
   "outputs": [],
   "source": [
    "high_score(gs)"
   ]
  },
  {
   "cell_type": "code",
   "execution_count": null,
   "metadata": {},
   "outputs": [],
   "source": [
    "gs.best_params_"
   ]
  },
  {
   "cell_type": "code",
   "execution_count": null,
   "metadata": {},
   "outputs": [],
   "source": [
    "SVC_pipe = make_pipeline(StandardScaler(), PCA(n_components=3), SVC(random_state=1))\n",
    "\n",
    "param_range = [10.0, 100.0, 1000.0]\n",
    "\n",
    "param_grid = [{'svc__C': param_range, \n",
    "               'svc__kernel': ['linear']},\n",
    "              {'svc__C': param_range, \n",
    "               'svc__gamma': param_range, \n",
    "               'svc__kernel': ['rbf']}]\n",
    "\n",
    "gs_svc = GridSearchCV(estimator=SVC_pipe, \n",
    "                  param_grid=param_grid, \n",
    "                  scoring='accuracy', \n",
    "                  cv=10,\n",
    "                  n_jobs=-1)"
   ]
  },
  {
   "cell_type": "code",
   "execution_count": null,
   "metadata": {},
   "outputs": [],
   "source": [
    "gs_svc = gs_svc.fit(X, y)\n",
    "print(f'{high_score(gs_svc)}')"
   ]
  },
  {
   "cell_type": "code",
   "execution_count": null,
   "metadata": {},
   "outputs": [],
   "source": []
  },
  {
   "cell_type": "code",
   "execution_count": null,
   "metadata": {},
   "outputs": [],
   "source": [
    "gs.best_params_"
   ]
  }
 ],
 "metadata": {
  "kernelspec": {
   "display_name": "Python 3",
   "language": "python",
   "name": "python3"
  },
  "language_info": {
   "codemirror_mode": {
    "name": "ipython",
    "version": 3
   },
   "file_extension": ".py",
   "mimetype": "text/x-python",
   "name": "python",
   "nbconvert_exporter": "python",
   "pygments_lexer": "ipython3",
   "version": "3.8.5"
  }
 },
 "nbformat": 4,
 "nbformat_minor": 4
}
