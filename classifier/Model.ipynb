{
 "cells": [
  {
   "cell_type": "code",
   "execution_count": 2,
   "metadata": {},
   "outputs": [],
   "source": [
    "import numpy as np\n",
    "from utilities import prepare_set"
   ]
  },
  {
   "cell_type": "code",
   "execution_count": 3,
   "metadata": {},
   "outputs": [],
   "source": [
    "X_train, y_train, X_test, y_test, train_weights, test_weights = prepare_set('../data/D0_set_weighted.npy')"
   ]
  },
  {
   "cell_type": "code",
   "execution_count": 4,
   "metadata": {},
   "outputs": [
    {
     "data": {
      "text/plain": [
       "(104768, 9)"
      ]
     },
     "execution_count": 4,
     "metadata": {},
     "output_type": "execute_result"
    }
   ],
   "source": [
    "X_train.shape"
   ]
  },
  {
   "cell_type": "code",
   "execution_count": 5,
   "metadata": {},
   "outputs": [
    {
     "data": {
      "text/plain": [
       "(11641, 9)"
      ]
     },
     "execution_count": 5,
     "metadata": {},
     "output_type": "execute_result"
    }
   ],
   "source": [
    "X_test.shape"
   ]
  },
  {
   "cell_type": "markdown",
   "metadata": {},
   "source": [
    ">S - ratio of # of classified signal (1) to # of counted signal in X_test  \n",
    "B - ratio of # of classified background (0) to # of counted background in y_test"
   ]
  },
  {
   "cell_type": "markdown",
   "metadata": {},
   "source": [
    "## ML model"
   ]
  },
  {
   "cell_type": "code",
   "execution_count": 20,
   "metadata": {},
   "outputs": [],
   "source": [
    "from sklearn.linear_model import LogisticRegression\n",
    "from sklearn.svm import SVC\n",
    "from sklearn.tree import DecisionTreeClassifier\n",
    "from sklearn import tree\n",
    "from sklearn.model_selection import GridSearchCV\n",
    "\n",
    "no_train = 2500 # number of train samples\n",
    "no_test = 1500 # number of test samples\n",
    "X=X_train[:no_train, 1:]\n",
    "y=y_train[:no_train]\n",
    "\n",
    "def eff_signal(clf):\n",
    "    '''How much of signal is classified as signal.'''\n",
    "    test_count = 0\n",
    "    fit_count = 0\n",
    "    prediction = clf.predict(X_test[:no_test, 1:])\n",
    "    for i in range(no_test):\n",
    "        if y_test[i] == 1:\n",
    "            test_count += 1\n",
    "            if (y_test[i] == prediction[i]):\n",
    "                fit_count += 1\n",
    "    return fit_count / test_count\n",
    "\n",
    "def eff_background(clf):\n",
    "    '''How much of background is classified as background.'''\n",
    "    test_count = 0\n",
    "    fit_count = 0\n",
    "    prediction = clf.predict(X_test[:no_test, 1:])\n",
    "    for i in range(no_test):\n",
    "        if y_test[i] == 0:\n",
    "            test_count += 1\n",
    "            if (y_test[i] == prediction[i]):\n",
    "                fit_count += 1\n",
    "    return fit_count / test_count\n",
    "    \n",
    "def high_score(clf):\n",
    "    '''Function for scoring argument in model optimization'''\n",
    "    S = eff_signal(clf)\n",
    "    B = eff_background(clf)\n",
    "    return S/np.sqrt(S+B)"
   ]
  },
  {
   "cell_type": "markdown",
   "metadata": {},
   "source": [
    "---\n",
    "### Logistic Regression"
   ]
  },
  {
   "cell_type": "code",
   "execution_count": 7,
   "metadata": {},
   "outputs": [],
   "source": [
    "log_reg = LogisticRegression()\n",
    "log_reg = log_reg.fit(X, y)"
   ]
  },
  {
   "cell_type": "code",
   "execution_count": 18,
   "metadata": {},
   "outputs": [
    {
     "name": "stdout",
     "output_type": "stream",
     "text": [
      "S= 0.244, B= 0.942, S*(S+B)^1/2= 0.224\n"
     ]
    }
   ],
   "source": [
    "print('S= {:.3f}, B= {:.3f}, S*(S+B)^1/2= {:.3f}'.format(eff_signal(log_reg), \n",
    "                                                         eff_background(log_reg), high_score(log_reg)))"
   ]
  },
  {
   "cell_type": "code",
   "execution_count": 8,
   "metadata": {},
   "outputs": [
    {
     "data": {
      "text/plain": [
       "0.738"
      ]
     },
     "execution_count": 8,
     "metadata": {},
     "output_type": "execute_result"
    }
   ],
   "source": [
    "log_reg.score(X_test[:no_test, 1:], y_test[:no_test])"
   ]
  },
  {
   "cell_type": "markdown",
   "metadata": {},
   "source": [
    "---\n",
    "### SVC"
   ]
  },
  {
   "cell_type": "code",
   "execution_count": 9,
   "metadata": {},
   "outputs": [
    {
     "data": {
      "text/plain": [
       "SVC()"
      ]
     },
     "execution_count": 9,
     "metadata": {},
     "output_type": "execute_result"
    }
   ],
   "source": [
    "svc = SVC()\n",
    "svc.fit(X, y)"
   ]
  },
  {
   "cell_type": "code",
   "execution_count": 14,
   "metadata": {},
   "outputs": [
    {
     "name": "stdout",
     "output_type": "stream",
     "text": [
      "S= 0.210, B= 0.964, S*(S+B)^1/2= 0.194\n"
     ]
    }
   ],
   "source": [
    "print('S= {:.3f}, B= {:.3f}, S*(S+B)^1/2= {:.3f}'.format(eff_signal(svc), \n",
    "                                                         eff_background(svc), high_score(svc)))"
   ]
  },
  {
   "cell_type": "code",
   "execution_count": 101,
   "metadata": {},
   "outputs": [
    {
     "data": {
      "text/plain": [
       "0.7266666666666667"
      ]
     },
     "execution_count": 101,
     "metadata": {},
     "output_type": "execute_result"
    }
   ],
   "source": [
    "svc.score(X_test[:no_test, 1:], y_test[:no_test])"
   ]
  },
  {
   "cell_type": "markdown",
   "metadata": {},
   "source": [
    "---\n",
    "### Decision Tree"
   ]
  },
  {
   "cell_type": "code",
   "execution_count": 17,
   "metadata": {},
   "outputs": [
    {
     "data": {
      "text/plain": [
       "DecisionTreeClassifier()"
      ]
     },
     "execution_count": 17,
     "metadata": {},
     "output_type": "execute_result"
    }
   ],
   "source": [
    "dec_tree = DecisionTreeClassifier()\n",
    "dec_tree.fit(X,y)"
   ]
  },
  {
   "cell_type": "code",
   "execution_count": 19,
   "metadata": {},
   "outputs": [
    {
     "name": "stdout",
     "output_type": "stream",
     "text": [
      "S= 0.731, B= 0.887, S*(S+B)^1/2= 0.574\n"
     ]
    }
   ],
   "source": [
    "print('S= {:.3f}, B= {:.3f}, S*(S+B)^1/2= {:.3f}'.format(eff_signal(dec_tree), \n",
    "                                                         eff_background(dec_tree), high_score(dec_tree)))"
   ]
  },
  {
   "cell_type": "code",
   "execution_count": 103,
   "metadata": {},
   "outputs": [
    {
     "data": {
      "text/plain": [
       "0.8286666666666667"
      ]
     },
     "execution_count": 103,
     "metadata": {},
     "output_type": "execute_result"
    }
   ],
   "source": [
    "dec_tree.score(X_test[:no_test, 1:], y_test[:no_test])"
   ]
  }
 ],
 "metadata": {
  "kernelspec": {
   "display_name": "Python 3",
   "language": "python",
   "name": "python3"
  },
  "language_info": {
   "codemirror_mode": {
    "name": "ipython",
    "version": 3
   },
   "file_extension": ".py",
   "mimetype": "text/x-python",
   "name": "python",
   "nbconvert_exporter": "python",
   "pygments_lexer": "ipython3",
   "version": "3.8.5"
  }
 },
 "nbformat": 4,
 "nbformat_minor": 4
}
